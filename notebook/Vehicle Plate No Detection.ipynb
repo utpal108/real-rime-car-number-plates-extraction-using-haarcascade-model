{
 "cells": [
  {
   "cell_type": "code",
   "execution_count": 1,
   "id": "7de2892a-0ccd-4115-9f8b-a50c59d2d30c",
   "metadata": {},
   "outputs": [],
   "source": [
    "import cv2\n",
    "import uuid\n",
    "import os\n",
    "import easyocr"
   ]
  },
  {
   "cell_type": "code",
   "execution_count": 2,
   "id": "17f92fe2",
   "metadata": {},
   "outputs": [],
   "source": [
    "car_number_plate_cascade = cv2.CascadeClassifier('model/haarcascade_russian_plate_number.xml')"
   ]
  },
  {
   "cell_type": "code",
   "execution_count": 3,
   "id": "90d57958-efb5-4bc8-a8f6-a5f373e8c906",
   "metadata": {},
   "outputs": [],
   "source": [
    "cap = cv2.VideoCapture(0)\n",
    "save_dir = 'car_number_plate_images'"
   ]
  },
  {
   "cell_type": "code",
   "execution_count": 2,
   "id": "0e17e2f7",
   "metadata": {},
   "outputs": [],
   "source": [
    "def readImages(fileDir='car_number_plate_images'):\n",
    "\n",
    "    number_plat_images = os.listdir(fileDir)\n",
    "    reader = easyocr.Reader(['en'], gpu=False)\n",
    "    \n",
    "    for number_plat_image in number_plat_images:\n",
    "        IMG_PATH = os.path.join(fileDir, number_plat_image)\n",
    "        car_numbers = reader.readtext(IMG_PATH)\n",
    "\n",
    "        for car_number in car_numbers:\n",
    "            text = car_number[1]\n",
    "            print(text)\n",
    "            with open('car_numbers.txt','a') as f:\n",
    "                f.write(text+'\\n')\n"
   ]
  },
  {
   "cell_type": "code",
   "execution_count": 6,
   "id": "a93b8e3f-28e5-4185-a08c-b4a51efd4de6",
   "metadata": {},
   "outputs": [
    {
     "name": "stderr",
     "output_type": "stream",
     "text": [
      "qt.qpa.plugin: Could not find the Qt platform plugin \"wayland\" in \"/home/utpal108/dev/Python/PW Skills Projects/Vehicle Plate No Detection/venv/lib/python3.10/site-packages/cv2/qt/plugins\"\n",
      "Using CPU. Note: This module is much faster with a GPU.\n"
     ]
    },
    {
     "name": "stdout",
     "output_type": "stream",
     "text": [
      "Fss Dp\n",
      "DJ.9999\n",
      "Pnss @RY\n",
      "dbJ\n",
      "ass dry\n"
     ]
    }
   ],
   "source": [
    "while True:\n",
    "    ret, frame = cap.read()\n",
    "\n",
    "    if not ret:\n",
    "        break\n",
    "\n",
    "    # Image Processing Technique In Here\n",
    "    gray_image = cv2.cvtColor(frame, cv2.COLOR_BGR2GRAY)\n",
    "    car_number_plates = car_number_plate_cascade.detectMultiScale(gray_image, scaleFactor=1.1, minNeighbors=5, minSize=(30,30))\n",
    "\n",
    "    for (x,y,w,h) in car_number_plates:\n",
    "        cv2.rectangle(frame,(x,y), (x+w,y+h), (0,255,0), 5)\n",
    "\n",
    "        if cv2.waitKey(1) & 0xFF == ord('s'):\n",
    "\n",
    "            # Crop the car number plate region from the video frame\n",
    "            car_number_plate_image = frame[y:y + h, x:x + w]\n",
    "\n",
    "            # Save the car number plate image to a disk\n",
    "            cv2.imwrite(os.path.join(save_dir, '{}.png'.format(uuid.uuid4())), car_number_plate_image)\n",
    "\n",
    "\n",
    "    cv2.imshow('Real Time Car Number Plate Extraction', frame)\n",
    "\n",
    "\n",
    "    if cv2.waitKey(1) & 0xFF == ord('q'):\n",
    "        readImages()\n",
    "        break    \n",
    "\n",
    "# Release resources\n",
    "cap.release()\n",
    "cv2.destroyAllWindows()"
   ]
  },
  {
   "cell_type": "code",
   "execution_count": null,
   "id": "5abf6096",
   "metadata": {},
   "outputs": [],
   "source": []
  }
 ],
 "metadata": {
  "kernelspec": {
   "display_name": "Python 3 (ipykernel)",
   "language": "python",
   "name": "python3"
  },
  "language_info": {
   "codemirror_mode": {
    "name": "ipython",
    "version": 3
   },
   "file_extension": ".py",
   "mimetype": "text/x-python",
   "name": "python",
   "nbconvert_exporter": "python",
   "pygments_lexer": "ipython3",
   "version": "3.10.12"
  }
 },
 "nbformat": 4,
 "nbformat_minor": 5
}
